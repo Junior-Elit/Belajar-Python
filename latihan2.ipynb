{
  "nbformat": 4,
  "nbformat_minor": 0,
  "metadata": {
    "colab": {
      "provenance": [],
      "authorship_tag": "ABX9TyNXtjB9S9gVMnuJ0irsWgpU",
      "include_colab_link": true
    },
    "kernelspec": {
      "name": "python3",
      "display_name": "Python 3"
    },
    "language_info": {
      "name": "python"
    }
  },
  "cells": [
    {
      "cell_type": "markdown",
      "metadata": {
        "id": "view-in-github",
        "colab_type": "text"
      },
      "source": [
        "<a href=\"https://colab.research.google.com/github/Junior-Elit/Belajar-Python/blob/main/latihan2.ipynb\" target=\"_parent\"><img src=\"https://colab.research.google.com/assets/colab-badge.svg\" alt=\"Open In Colab\"/></a>"
      ]
    },
    {
      "cell_type": "code",
      "execution_count": null,
      "metadata": {
        "id": "knN6RqndUMc4"
      },
      "outputs": [],
      "source": [
        "# len()\n",
        "\"\"\"\n",
        "Fungsi len() bertujuan untuk menghitung panjang atau banyaknya elemen dari list, set, dan string.\n",
        "Khusus pada string, program akan menghitung jumlah karakternya.\n",
        "\"\"\"\n",
        "# List\n",
        "\n",
        "contoh_list = [1, 3, 3, 5, 5, 5, 7, 7, 9]\n",
        "\n",
        "print(contoh_list)\n",
        "print(len(contoh_list))\n",
        "\n",
        "\"\"\"\n",
        "Output:\n",
        "[1, 3, 3, 5, 5, 5, 7, 7, 9]\n",
        "9\n",
        "\"\"\""
      ]
    }
  ]
}