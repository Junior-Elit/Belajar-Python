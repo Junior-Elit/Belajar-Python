{
  "nbformat": 4,
  "nbformat_minor": 0,
  "metadata": {
    "colab": {
      "provenance": [],
      "authorship_tag": "ABX9TyMnQ4MGcSt3GwO01At29J8d",
      "include_colab_link": true
    },
    "kernelspec": {
      "name": "python3",
      "display_name": "Python 3"
    },
    "language_info": {
      "name": "python"
    }
  },
  "cells": [
    {
      "cell_type": "markdown",
      "metadata": {
        "id": "view-in-github",
        "colab_type": "text"
      },
      "source": [
        "<a href=\"https://colab.research.google.com/github/Junior-Elit/Belajar-Python/blob/main/Latihan_1.ipynb\" target=\"_parent\"><img src=\"https://colab.research.google.com/assets/colab-badge.svg\" alt=\"Open In Colab\"/></a>"
      ]
    },
    {
      "cell_type": "code",
      "execution_count": null,
      "metadata": {
        "id": "iy3xLoxWOn3R"
      },
      "outputs": [],
      "source": [
        "print(\"Hello World!\")"
      ]
    },
    {
      "cell_type": "code",
      "source": [
        "2+2"
      ],
      "metadata": {
        "id": "Qo7p_ArIPNtO"
      },
      "execution_count": null,
      "outputs": []
    },
    {
      "cell_type": "code",
      "source": [
        "greeting = 'Hello World!'   #  Ini adalah assignment\n",
        "print(greeting)\n",
        "\n",
        "\"\"\"\n",
        "Output: Hello World!\n",
        "\"\"\""
      ],
      "metadata": {
        "id": "itH5LA8RPSuG"
      },
      "execution_count": null,
      "outputs": []
    },
    {
      "cell_type": "code",
      "source": [
        "\"\"\"\n",
        "addition adalah variabel yang bernilai ekspresi 2+2,\n",
        "result adalah hasil pengurangan dari variabel addition dikurangi 1\n",
        "\"\"\"\n",
        "\n",
        "addition = 2+2\n",
        "result = addition - 1\n",
        "print(result)\n",
        "\n",
        "\n",
        "\"\"\"\n",
        "Output: 3\n",
        "\"\"\""
      ],
      "metadata": {
        "id": "VYOZ0nyxPhR2"
      },
      "execution_count": null,
      "outputs": []
    }
  ]
}